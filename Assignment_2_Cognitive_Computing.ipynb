{
  "nbformat": 4,
  "nbformat_minor": 0,
  "metadata": {
    "colab": {
      "provenance": [],
      "authorship_tag": "ABX9TyOaTTDN3T0C20gTqPHEfXfq",
      "include_colab_link": true
    },
    "kernelspec": {
      "name": "python3",
      "display_name": "Python 3"
    },
    "language_info": {
      "name": "python"
    }
  },
  "cells": [
    {
      "cell_type": "markdown",
      "metadata": {
        "id": "view-in-github",
        "colab_type": "text"
      },
      "source": [
        "<a href=\"https://colab.research.google.com/github/DiptangshuPattadar/python_new/blob/main/Assignment_2_Cognitive_Computing.ipynb\" target=\"_parent\"><img src=\"https://colab.research.google.com/assets/colab-badge.svg\" alt=\"Open In Colab\"/></a>"
      ]
    },
    {
      "cell_type": "markdown",
      "source": [
        "\n",
        "\n",
        "Q.1\n",
        "Perform the following operations on the list L = [10, 20, 30, 40, 50, 60, 70, 80]:\n",
        "i. Add 200 and 300 to L\n",
        "ii. Remove 10 and 30 from L\n",
        "iii. Sort L in ascending order\n",
        "iv. Sort L in descending order\n",
        "\n",
        "\n"
      ],
      "metadata": {
        "id": "YakFIe1kWP4N"
      }
    },
    {
      "cell_type": "code",
      "source": [
        "\n",
        "L = [10, 20, 30, 40, 50, 60, 70, 80]\n",
        "\n",
        "\n",
        "L.extend([200, 300])\n",
        "\n",
        "\n",
        "L.remove(10)\n",
        "L.remove(30)\n",
        "\n",
        "\n",
        "L.sort()\n",
        "print(\"Ascending order:\", L)\n",
        "\n",
        "\n",
        "L.sort(reverse=True)\n",
        "print(\"Descending order:\", L)\n"
      ],
      "metadata": {
        "colab": {
          "base_uri": "https://localhost:8080/"
        },
        "id": "HMqHVFljWsrO",
        "outputId": "406b0c14-7244-40a4-d1d2-c4adf570ee9a"
      },
      "execution_count": 3,
      "outputs": [
        {
          "output_type": "stream",
          "name": "stdout",
          "text": [
            "Ascending order: [20, 40, 50, 60, 70, 80, 200, 300]\n",
            "Descending order: [300, 200, 80, 70, 60, 50, 40, 20]\n"
          ]
        }
      ]
    },
    {
      "cell_type": "markdown",
      "source": [
        "Q.2\n",
        "Perform operations on the tuple scores = (45, 89.5, 76, 45.4, 89, 92, 58, 45):\n",
        "i. Find the highest score and its index\n",
        "ii. Find the lowest score and how many times it appears\n",
        "iii. Reverse the tuple and return it as a list\n",
        "iv. Check if 76 is in the tuple and its first occurrence indexPerform"
      ],
      "metadata": {
        "id": "TSenRVOCrTOL"
      }
    },
    {
      "cell_type": "code",
      "source": [
        "\n",
        "scores = (45, 89.5, 76, 45.4, 89, 92, 58, 45)\n",
        "\n",
        "\n",
        "highest_score = max(scores)\n",
        "highest_index = scores.index(highest_score)\n",
        "print(\"Highest score:\", highest_score, \"at index:\", highest_index)\n",
        "\n",
        "\n",
        "lowest_score = min(scores)\n",
        "lowest_count = scores.count(lowest_score)\n",
        "print(\"Lowest score:\", lowest_score, \"appears\", lowest_count, \"times.\")\n",
        "\n",
        "\n",
        "reversed_list = list(scores[::-1])\n",
        "print(\"Reversed tuple as list:\", reversed_list)\n",
        "\n",
        "if 76 in scores:\n",
        "    print(\"76 is at index:\", scores.index(76))\n",
        "else:\n",
        "    print(\"76 is not in the tuple.\")\n"
      ],
      "metadata": {
        "colab": {
          "base_uri": "https://localhost:8080/"
        },
        "id": "lp0l5wTerb0C",
        "outputId": "2c3538c1-fdd5-4e7b-ac42-b0b8b61bc1c5"
      },
      "execution_count": 4,
      "outputs": [
        {
          "output_type": "stream",
          "name": "stdout",
          "text": [
            "Highest score: 92 at index: 5\n",
            "Lowest score: 45 appears 2 times.\n",
            "Reversed tuple as list: [45, 58, 92, 89, 45.4, 76, 89.5, 45]\n",
            "76 is at index: 2\n"
          ]
        }
      ]
    },
    {
      "cell_type": "markdown",
      "source": [
        "Q.3\n",
        "Random Numbers and Counting\n",
        "Question: Create a list of 100 random numbers between 100 and 900. Count and print:\n",
        "i. All odd numbers\n",
        "ii. All even numbers\n",
        "iii. All prime numbers"
      ],
      "metadata": {
        "id": "XYQ1MNahsHLc"
      }
    },
    {
      "cell_type": "code",
      "source": [
        "import random\n",
        "import math\n",
        "\n",
        "random_numbers = [random.randint(100, 900) for _ in range(100)]\n",
        "\n",
        "\n",
        "odd_numbers = [n for n in random_numbers if n % 2 != 0]\n",
        "\n",
        "even_numbers = [n for n in random_numbers if n % 2 == 0]\n",
        "\n",
        "def is_prime(num):\n",
        "    if num <= 1:\n",
        "        return False\n",
        "    for i in range(2, int(math.sqrt(num)) + 1):\n",
        "        if num % i == 0:\n",
        "            return False\n",
        "    return True\n",
        "\n",
        "prime_numbers = [n for n in random_numbers if is_prime(n)]\n",
        "\n",
        "print(\"Odd numbers:\", odd_numbers)\n",
        "print(\"Even numbers:\", even_numbers)\n",
        "print(\"Prime numbers:\", prime_numbers)\n"
      ],
      "metadata": {
        "colab": {
          "base_uri": "https://localhost:8080/"
        },
        "id": "K4sO-ardsNvd",
        "outputId": "64426861-f59a-4755-f80e-237be53c923f"
      },
      "execution_count": 5,
      "outputs": [
        {
          "output_type": "stream",
          "name": "stdout",
          "text": [
            "Odd numbers: [839, 511, 429, 173, 279, 443, 773, 453, 279, 565, 133, 153, 115, 493, 349, 291, 375, 713, 847, 279, 491, 137, 803, 267, 667, 611, 421, 815, 485, 207, 555, 179, 711, 693, 751, 821, 725, 411, 859, 891, 467, 631, 523, 241, 317, 167, 859, 423, 891, 693, 611, 415, 529, 741]\n",
            "Even numbers: [120, 142, 334, 576, 560, 778, 120, 300, 324, 278, 442, 720, 166, 578, 108, 316, 816, 196, 342, 336, 548, 624, 752, 806, 470, 842, 510, 500, 680, 642, 240, 332, 356, 506, 616, 316, 244, 262, 464, 602, 810, 586, 304, 900, 454, 164]\n",
            "Prime numbers: [839, 173, 443, 773, 349, 491, 137, 421, 179, 751, 821, 859, 467, 631, 523, 241, 317, 167, 859]\n"
          ]
        }
      ]
    },
    {
      "cell_type": "markdown",
      "source": [
        "Q.4\n",
        "Perform operations on the sets A = {34, 56, 78, 90} and B = {78, 45, 90, 23}:\n",
        "i. Find the unique scores (union)\n",
        "ii. Identify common scores (intersection)\n",
        "iii. Find exclusive scores (symmetric difference)\n",
        "iv. Check if A is a subset of B and if B is a superset of A\n",
        "v. Remove a specific score X from A"
      ],
      "metadata": {
        "id": "OxPQKhA8srKi"
      }
    },
    {
      "cell_type": "code",
      "source": [
        "\n",
        "A = {34, 56, 78, 90}\n",
        "B = {78, 45, 90, 23}\n",
        "\n",
        "\n",
        "union_scores = A | B\n",
        "print(\"Unique scores (Union):\", union_scores)\n",
        "\n",
        "\n",
        "common_scores = A & B\n",
        "print(\"Common scores (Intersection):\", common_scores)\n",
        "\n",
        "exclusive_scores = A ^ B\n",
        "print(\"Exclusive scores (Symmetric Difference):\", exclusive_scores)\n",
        "\n",
        "is_subset = A.issubset(B)\n",
        "is_superset = B.issuperset(A)\n",
        "print(\"Is A a subset of B?:\", is_subset)\n",
        "print(\"Is B a superset of A?:\", is_superset)\n",
        "\n",
        "\n",
        "X = 56\n",
        "if X in A:\n",
        "    A.remove(X)\n",
        "    print(\"After removal, A:\", A)\n",
        "else:\n",
        "    print(f\"{X} is not in A.\")\n"
      ],
      "metadata": {
        "colab": {
          "base_uri": "https://localhost:8080/"
        },
        "id": "TpZlCVyesvHS",
        "outputId": "a0b765d8-2bde-4395-f139-03e35a7c3e2e"
      },
      "execution_count": 6,
      "outputs": [
        {
          "output_type": "stream",
          "name": "stdout",
          "text": [
            "Unique scores (Union): {34, 45, 78, 23, 56, 90}\n",
            "Common scores (Intersection): {90, 78}\n",
            "Exclusive scores (Symmetric Difference): {34, 45, 23, 56}\n",
            "Is A a subset of B?: False\n",
            "Is B a superset of A?: False\n",
            "After removal, A: {34, 90, 78}\n"
          ]
        }
      ]
    },
    {
      "cell_type": "markdown",
      "source": [
        "Q.5\n",
        "Dictionary Operations\n",
        "Question: Rename the key city to location in the dictionary:\n"
      ],
      "metadata": {
        "id": "jc07v1wgs-Uy"
      }
    },
    {
      "cell_type": "code",
      "source": [
        "\n",
        "data = {\"city\": \"Las Vegas\", \"population\": 8419600, \"area\": 468.9}\n",
        "\n",
        "\n",
        "data[\"location\"] = data.pop(\"city\")\n",
        "\n",
        "\n",
        "print(\"Updated dictionary:\", data)\n"
      ],
      "metadata": {
        "colab": {
          "base_uri": "https://localhost:8080/"
        },
        "id": "td7FPSb3tDWg",
        "outputId": "07acd9db-87db-4128-ac7a-233cd56a6df0"
      },
      "execution_count": 8,
      "outputs": [
        {
          "output_type": "stream",
          "name": "stdout",
          "text": [
            "Updated dictionary: {'population': 8419600, 'area': 468.9, 'location': 'Las Vegas'}\n"
          ]
        }
      ]
    }
  ]
}