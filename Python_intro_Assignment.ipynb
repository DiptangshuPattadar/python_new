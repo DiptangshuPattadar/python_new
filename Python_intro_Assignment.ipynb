{
  "nbformat": 4,
  "nbformat_minor": 0,
  "metadata": {
    "colab": {
      "provenance": [],
      "authorship_tag": "ABX9TyMY5WUQ78Gn5CC3x7b7QBgB",
      "include_colab_link": true
    },
    "kernelspec": {
      "name": "python3",
      "display_name": "Python 3"
    },
    "language_info": {
      "name": "python"
    }
  },
  "cells": [
    {
      "cell_type": "markdown",
      "metadata": {
        "id": "view-in-github",
        "colab_type": "text"
      },
      "source": [
        "<a href=\"https://colab.research.google.com/github/DiptangshuPattadar/python_new/blob/main/Python_intro_Assignment.ipynb\" target=\"_parent\"><img src=\"https://colab.research.google.com/assets/colab-badge.svg\" alt=\"Open In Colab\"/></a>"
      ]
    },
    {
      "cell_type": "markdown",
      "source": [],
      "metadata": {
        "id": "bkc7WofsW5b1"
      }
    },
    {
      "cell_type": "markdown",
      "source": [
        "Write a Python program to print \"Anything You find cool.\"\n"
      ],
      "metadata": {
        "id": "eYoSApoXYt5t"
      }
    },
    {
      "cell_type": "code",
      "source": [
        "print(\"I am Diptangshu and I am cool\")"
      ],
      "metadata": {
        "colab": {
          "base_uri": "https://localhost:8080/"
        },
        "id": "0tOeLfWnY289",
        "outputId": "8ccb02bd-d9a8-47ea-fd10-c04df3ca1e2b"
      },
      "execution_count": 1,
      "outputs": [
        {
          "output_type": "stream",
          "name": "stdout",
          "text": [
            "I am Diptangshu and I am cool\n"
          ]
        }
      ]
    },
    {
      "cell_type": "markdown",
      "source": [
        "ADDITION OF TWO NUMBER\n"
      ],
      "metadata": {
        "id": "CwG4qczkaEjZ"
      }
    },
    {
      "cell_type": "code",
      "source": [
        "a = 5\n",
        "b = 3\n",
        "print(a + b)"
      ],
      "metadata": {
        "colab": {
          "base_uri": "https://localhost:8080/"
        },
        "id": "24DFRRz0aIOQ",
        "outputId": "c314c910-d6c6-4298-9a52-675896685a3a"
      },
      "execution_count": 2,
      "outputs": [
        {
          "output_type": "stream",
          "name": "stdout",
          "text": [
            "8\n"
          ]
        }
      ]
    },
    {
      "cell_type": "markdown",
      "source": [
        " Concatenate Two Strings"
      ],
      "metadata": {
        "id": "Dlbe57xEaWnj"
      }
    },
    {
      "cell_type": "code",
      "source": [
        "str1 = \"Hello\"\n",
        "str2 = \"World\"\n",
        "print(str1 + \" \" + str2)"
      ],
      "metadata": {
        "colab": {
          "base_uri": "https://localhost:8080/"
        },
        "id": "iFkwFmHPadCj",
        "outputId": "bbe7f9e2-c046-4486-fc07-38b1fc753292"
      },
      "execution_count": 3,
      "outputs": [
        {
          "output_type": "stream",
          "name": "stdout",
          "text": [
            "Hello World\n"
          ]
        }
      ]
    },
    {
      "cell_type": "markdown",
      "source": [
        "Concatenate a String and a Number"
      ],
      "metadata": {
        "id": "Z2DbH2I-az-f"
      }
    },
    {
      "cell_type": "code",
      "source": [
        "num = 42\n",
        "text = \"The answer is\"\n",
        "print(text + \" \" + str(num))"
      ],
      "metadata": {
        "colab": {
          "base_uri": "https://localhost:8080/"
        },
        "id": "WRg1hH5Na1Qy",
        "outputId": "04dcc02d-8c38-4be9-d006-3eae509f5ebe"
      },
      "execution_count": 4,
      "outputs": [
        {
          "output_type": "stream",
          "name": "stdout",
          "text": [
            "The answer is 42\n"
          ]
        }
      ]
    },
    {
      "cell_type": "markdown",
      "source": [
        " Check if a Number is Positive, Negative, or Zero"
      ],
      "metadata": {
        "id": "c2y8Qdnpa7K-"
      }
    },
    {
      "cell_type": "code",
      "source": [
        "num = int(input(\"Enter a number: \"))\n",
        "if num > 0:\n",
        "    print(\"Positive\")\n",
        "elif num < 0:\n",
        "    print(\"Negative\")\n",
        "else:\n",
        "    print(\"Zero\")"
      ],
      "metadata": {
        "colab": {
          "base_uri": "https://localhost:8080/"
        },
        "id": "UL-PEkJ3bEft",
        "outputId": "33ee41f4-91b9-4fbc-d198-10d21bff87c7"
      },
      "execution_count": 5,
      "outputs": [
        {
          "output_type": "stream",
          "name": "stdout",
          "text": [
            "Enter a number: 1\n",
            "Positive\n"
          ]
        }
      ]
    },
    {
      "cell_type": "markdown",
      "source": [
        "Check if a Number is Odd or Even"
      ],
      "metadata": {
        "id": "AQGPmDgKbQmA"
      }
    },
    {
      "cell_type": "code",
      "source": [
        "num = int(input(\"Enter a number: \"))\n",
        "if num % 2 == 0:\n",
        "    print(\"Even\")\n",
        "else:\n",
        "    print(\"Odd\")"
      ],
      "metadata": {
        "id": "Qw_b0zsLbWof"
      },
      "execution_count": null,
      "outputs": []
    },
    {
      "cell_type": "markdown",
      "source": [
        "Print Numbers 1 to 10 for Loop"
      ],
      "metadata": {
        "id": "fGGwzNgjbxaV"
      }
    },
    {
      "cell_type": "code",
      "source": [
        "for i in range(1, 10):\n",
        "    print(i)"
      ],
      "metadata": {
        "colab": {
          "base_uri": "https://localhost:8080/"
        },
        "collapsed": true,
        "id": "ZFWeARrrb0ba",
        "outputId": "28ca3327-cf70-45b0-80fc-b46c90df4dae"
      },
      "execution_count": 6,
      "outputs": [
        {
          "output_type": "stream",
          "name": "stdout",
          "text": [
            "1\n",
            "2\n",
            "3\n",
            "4\n",
            "5\n",
            "6\n",
            "7\n",
            "8\n",
            "9\n",
            "10\n"
          ]
        }
      ]
    },
    {
      "cell_type": "markdown",
      "source": [
        " Print Numbers 1 to 10 (While Loop)"
      ],
      "metadata": {
        "id": "WkEeTa92b7GF"
      }
    },
    {
      "cell_type": "code",
      "source": [
        "i = 1\n",
        "while i <= 10:\n",
        "    print(i)\n",
        "    i += 1"
      ],
      "metadata": {
        "id": "S9DHF1cTb9ne"
      },
      "execution_count": null,
      "outputs": []
    },
    {
      "cell_type": "markdown",
      "source": [
        "Sum of Numbers from 1 to 100"
      ],
      "metadata": {
        "id": "oAWDPREWcBQq"
      }
    },
    {
      "cell_type": "code",
      "source": [
        "total = 0\n",
        "for i in range(1, 101):\n",
        "    total += i\n",
        "print(total)"
      ],
      "metadata": {
        "id": "bkJTYOlqcD14"
      },
      "execution_count": null,
      "outputs": []
    },
    {
      "cell_type": "markdown",
      "source": [
        "Largest and Smallest Numbers in a List"
      ],
      "metadata": {
        "id": "nrP-2cc8cOas"
      }
    },
    {
      "cell_type": "code",
      "source": [
        "numbers = [10, 20, 5, 40, 25]\n",
        "print(\"Largest:\", max(numbers))\n",
        "print(\"Smallest:\", min(numbers))\n"
      ],
      "metadata": {
        "id": "Z5kSYZRScT9G"
      },
      "execution_count": null,
      "outputs": []
    },
    {
      "cell_type": "markdown",
      "source": [
        "Retrieve Value from a Dictionary"
      ],
      "metadata": {
        "id": "llr8EN3TcZ4e"
      }
    },
    {
      "cell_type": "code",
      "source": [
        "dictionary = {\"a\": 1, \"b\": 2, \"c\": 3}\n",
        "key = input(\"Enter a key: \")\n",
        "print(\"Value:\", dictionary.get(key, \"Key not found\"))\n"
      ],
      "metadata": {
        "id": "yfmUVXiccjGD"
      },
      "execution_count": null,
      "outputs": []
    },
    {
      "cell_type": "markdown",
      "source": [
        "Sort a List"
      ],
      "metadata": {
        "id": "mbKxWHoccoSv"
      }
    },
    {
      "cell_type": "code",
      "source": [
        "numbers = [10, 20, 5, 40, 25]\n",
        "print(\"Ascending:\", sorted(numbers))\n",
        "print(\"Descending:\", sorted(numbers, reverse=True))\n"
      ],
      "metadata": {
        "id": "PwL6ekTLcqxC"
      },
      "execution_count": null,
      "outputs": []
    },
    {
      "cell_type": "markdown",
      "source": [
        "Merge Two Dictionaries"
      ],
      "metadata": {
        "id": "q_B8CNG3cuLh"
      }
    },
    {
      "cell_type": "code",
      "source": [
        "dict1 = {\"a\": 1, \"b\": 2}\n",
        "dict2 = {\"c\": 3, \"d\": 4}\n",
        "merged = {**dict1, **dict2}\n",
        "print(merged)\n"
      ],
      "metadata": {
        "id": "l_S43P0FcweT"
      },
      "execution_count": null,
      "outputs": []
    },
    {
      "cell_type": "markdown",
      "source": [
        "Count Vowels in a String"
      ],
      "metadata": {
        "id": "9yzDyCjVcyoT"
      }
    },
    {
      "cell_type": "code",
      "source": [
        "text = input(\"Enter a string: \")\n",
        "vowels = \"aeiou\"\n",
        "count = sum(1 for char in text if char in vowels)\n",
        "print(\"Number of vowels:\", count)\n"
      ],
      "metadata": {
        "id": "38o1loWIc8LD"
      },
      "execution_count": null,
      "outputs": []
    },
    {
      "cell_type": "markdown",
      "source": [
        "Reverse a String"
      ],
      "metadata": {
        "id": "mfwH2xlOdG-Z"
      }
    },
    {
      "cell_type": "code",
      "source": [
        "text = input(\"Enter a string: \")\n",
        "print(\"Reversed string:\", text[::-1])\n"
      ],
      "metadata": {
        "id": "fFf9NOV-dKs-"
      },
      "execution_count": null,
      "outputs": []
    },
    {
      "cell_type": "markdown",
      "source": [
        "Check if a String is a Palindrome"
      ],
      "metadata": {
        "id": "ldAbBRw1dMrt"
      }
    },
    {
      "cell_type": "code",
      "source": [
        "text = input(\"Enter a string: \")\n",
        "if text == text[::-1]:\n",
        "    print(\"Palindrome\")\n",
        "else:\n",
        "    print(\"Not a palindrome\")\n"
      ],
      "metadata": {
        "id": "apW1nLfydPoK"
      },
      "execution_count": null,
      "outputs": []
    },
    {
      "cell_type": "markdown",
      "source": [
        "Create, Write, and Read a Text File"
      ],
      "metadata": {
        "id": "FH3FQ-5HdTSv"
      }
    },
    {
      "cell_type": "code",
      "source": [
        "with open(\"example.txt\", \"w\") as file:\n",
        "    file.write(\"Hello, this is some text!\")\n",
        "with open(\"example.txt\", \"r\") as file:\n",
        "    print(file.read())\n"
      ],
      "metadata": {
        "id": "4c3A7iVhdWNk"
      },
      "execution_count": null,
      "outputs": []
    },
    {
      "cell_type": "markdown",
      "source": [
        "Append Text to an Existing File"
      ],
      "metadata": {
        "id": "IgHSVnrcdZ9h"
      }
    },
    {
      "cell_type": "code",
      "source": [
        "with open(\"example.txt\", \"a\") as file:\n",
        "    file.write(\"\\nThis is appended text.\")\n",
        "with open(\"example.txt\", \"r\") as file:\n",
        "    print(file.read())\n"
      ],
      "metadata": {
        "id": "g6T93G7XddDT"
      },
      "execution_count": null,
      "outputs": []
    },
    {
      "cell_type": "markdown",
      "source": [
        "Count Lines in a File"
      ],
      "metadata": {
        "id": "He0S_hh5dfRb"
      }
    },
    {
      "cell_type": "code",
      "source": [
        "with open(\"example.txt\", \"r\") as file:\n",
        "    lines = file.readlines()\n",
        "    print(\"Number of lines:\", len(lines))\n"
      ],
      "metadata": {
        "id": "OsY13qIRdiO7"
      },
      "execution_count": null,
      "outputs": []
    },
    {
      "cell_type": "markdown",
      "source": [
        "\n",
        "Handle Division by Zero"
      ],
      "metadata": {
        "id": "TraPS-27dk6h"
      }
    },
    {
      "cell_type": "code",
      "source": [
        "try:\n",
        "    result = 10 / 0\n",
        "except ZeroDivisionError:\n",
        "    print(\"Cannot divide by zero.\")\n"
      ],
      "metadata": {
        "id": "_bMQLby3dpsY"
      },
      "execution_count": null,
      "outputs": []
    },
    {
      "cell_type": "markdown",
      "source": [
        "Handle Invalid Input"
      ],
      "metadata": {
        "id": "NIx7hqs_drz3"
      }
    },
    {
      "cell_type": "code",
      "source": [
        "try:\n",
        "    num = int(input(\"Enter a number: \"))\n",
        "    print(\"You entered:\", num)\n",
        "except ValueError:\n",
        "    print(\"Invalid input. Please enter a number.\")\n"
      ],
      "metadata": {
        "id": "VOValEF8duEB"
      },
      "execution_count": null,
      "outputs": []
    },
    {
      "cell_type": "markdown",
      "source": [
        "Use finally in Exception Handling"
      ],
      "metadata": {
        "id": "DLDQYf80dwTm"
      }
    },
    {
      "cell_type": "code",
      "source": [
        "try:\n",
        "    num = int(input(\"Enter a number: \"))\n",
        "    result = 10 / num\n",
        "except ZeroDivisionError:\n",
        "    print(\"Cannot divide by zero.\")\n",
        "finally:\n",
        "    print(\"This block always executes.\")\n"
      ],
      "metadata": {
        "id": "EJ5HCqfCdyn1"
      },
      "execution_count": null,
      "outputs": []
    },
    {
      "cell_type": "markdown",
      "source": [
        " Generate 5 Random Numbers"
      ],
      "metadata": {
        "id": "noGN7SxLeNM9"
      }
    },
    {
      "cell_type": "code",
      "source": [
        "import random\n",
        "print([random.randint(1, 100) for _ in range(5)])\n"
      ],
      "metadata": {
        "id": "09xY6Jx2eQYL"
      },
      "execution_count": null,
      "outputs": []
    },
    {
      "cell_type": "markdown",
      "source": [
        "Generate and Check if Prime"
      ],
      "metadata": {
        "id": "fg4-eaqjeSz0"
      }
    },
    {
      "cell_type": "code",
      "source": [
        "import random\n",
        "num = random.randint(1, 100)\n",
        "is_prime = num > 1 and all(num % i != 0 for i in range(2, int(num**0.5) + 1))\n",
        "print(f\"{num} is prime: {is_prime}\")\n"
      ],
      "metadata": {
        "id": "kd9YTBnxeVFz"
      },
      "execution_count": null,
      "outputs": []
    },
    {
      "cell_type": "markdown",
      "source": [
        "Simulate Rolling a Six-Sided Die"
      ],
      "metadata": {
        "id": "H7ScmSzheYap"
      }
    },
    {
      "cell_type": "code",
      "source": [
        "import random\n",
        "print(\"Rolled:\", random.randint(1, 6))\n"
      ],
      "metadata": {
        "id": "glHwlZ0HeeR5"
      },
      "execution_count": null,
      "outputs": []
    },
    {
      "cell_type": "markdown",
      "source": [
        "Shuffle a List"
      ],
      "metadata": {
        "id": "htj8OdfCehIn"
      }
    },
    {
      "cell_type": "code",
      "source": [
        "import random\n",
        "numbers = [1, 2, 3, 4, 5]\n",
        "random.shuffle(numbers)\n",
        "print(numbers)\n"
      ],
      "metadata": {
        "id": "fv_wlC7mekGf"
      },
      "execution_count": null,
      "outputs": []
    },
    {
      "cell_type": "markdown",
      "source": [
        "Randomly Select an Item"
      ],
      "metadata": {
        "id": "dVb6hM8wemi0"
      }
    },
    {
      "cell_type": "code",
      "source": [
        "import random\n",
        "items = [10, 20, 30, 40, 50]\n",
        "print(random.choice(items))\n"
      ],
      "metadata": {
        "id": "H9hKlJOoepNe"
      },
      "execution_count": null,
      "outputs": []
    },
    {
      "cell_type": "markdown",
      "source": [
        "Generate a Random Password"
      ],
      "metadata": {
        "id": "xpkrmF0retfD"
      }
    },
    {
      "cell_type": "code",
      "source": [
        "import random\n",
        "import string\n",
        "length = int(input(\"Enter password length: \"))\n",
        "password = ''.join(random.choices(string.ascii_letters + string.digits, k=length))\n",
        "print(\"Generated password:\", password)\n"
      ],
      "metadata": {
        "id": "kD7RgDQgeyi-"
      },
      "execution_count": null,
      "outputs": []
    },
    {
      "cell_type": "markdown",
      "source": [
        " Pick a Random Card"
      ],
      "metadata": {
        "id": "4ldfKQvhe0tC"
      }
    },
    {
      "cell_type": "code",
      "source": [
        "import random\n",
        "suits = ['Hearts', 'Diamonds', 'Clubs', 'Spades']\n",
        "ranks = ['2', '3', '4', '5', '6', '7', '8', '9', '10', 'Jack', 'Queen', 'King', 'Ace']\n",
        "print(f\"Random card: {random.choice(ranks)} of {random.choice(suits)}\")\n"
      ],
      "metadata": {
        "id": "xQ8DyweVe28f"
      },
      "execution_count": null,
      "outputs": []
    },
    {
      "cell_type": "markdown",
      "source": [
        "\n",
        " Add Two Numbers from Command-Line"
      ],
      "metadata": {
        "id": "jS9ow9Aue_lH"
      }
    },
    {
      "cell_type": "code",
      "source": [
        "import sys\n",
        "num1 = int(sys.argv[1])\n",
        "num2 = int(sys.argv[2])\n",
        "print(\"Sum:\", num1 + num2)\n"
      ],
      "metadata": {
        "id": "87TYAQRkfEKD"
      },
      "execution_count": null,
      "outputs": []
    },
    {
      "cell_type": "markdown",
      "source": [
        " String Length from Command-Line"
      ],
      "metadata": {
        "id": "OXBXmIRMfMnE"
      }
    },
    {
      "cell_type": "code",
      "source": [
        "import sys\n",
        "text = sys.argv[1]\n",
        "print(\"Length of string:\", len(text))\n"
      ],
      "metadata": {
        "id": "UjeznJ8IfN3e"
      },
      "execution_count": null,
      "outputs": []
    },
    {
      "cell_type": "markdown",
      "source": [
        "Use math Library for Square Root"
      ],
      "metadata": {
        "id": "Ocklnag9fT-M"
      }
    },
    {
      "cell_type": "code",
      "source": [
        "import math\n",
        "num = int(input(\"Enter a number: \"))\n",
        "print(\"Square root:\", math.sqrt(num))\n"
      ],
      "metadata": {
        "id": "Lbk2syHofZOX"
      },
      "execution_count": null,
      "outputs": []
    },
    {
      "cell_type": "markdown",
      "source": [
        "Use datetime Library"
      ],
      "metadata": {
        "id": "bs7Jx4cKfcFH"
      }
    },
    {
      "cell_type": "code",
      "source": [
        "from datetime import datetime\n",
        "print(\"Current date and time:\", datetime.now())\n"
      ],
      "metadata": {
        "id": "w6hyp-FMfeg-"
      },
      "execution_count": null,
      "outputs": []
    },
    {
      "cell_type": "markdown",
      "source": [
        "Use os Library to List Files"
      ],
      "metadata": {
        "id": "SVfi1qHFfiA9"
      }
    },
    {
      "cell_type": "code",
      "source": [
        "import os\n",
        "print(\"Files in current directory:\", os.listdir('.'))\n"
      ],
      "metadata": {
        "id": "XctjqSxbfkQL"
      },
      "execution_count": null,
      "outputs": []
    }
  ]
}