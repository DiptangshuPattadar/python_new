{
  "nbformat": 4,
  "nbformat_minor": 0,
  "metadata": {
    "colab": {
      "provenance": [],
      "authorship_tag": "ABX9TyPCZwkXaOkeYj+aBJhKMO+i",
      "include_colab_link": true
    },
    "kernelspec": {
      "name": "python3",
      "display_name": "Python 3"
    },
    "language_info": {
      "name": "python"
    }
  },
  "cells": [
    {
      "cell_type": "markdown",
      "metadata": {
        "id": "view-in-github",
        "colab_type": "text"
      },
      "source": [
        "<a href=\"https://colab.research.google.com/github/DiptangshuPattadar/python_new/blob/main/Assignment_12.ipynb\" target=\"_parent\"><img src=\"https://colab.research.google.com/assets/colab-badge.svg\" alt=\"Open In Colab\"/></a>"
      ]
    },
    {
      "cell_type": "code",
      "execution_count": null,
      "metadata": {
        "id": "zJihzZtoI9-h"
      },
      "outputs": [],
      "source": [
        "import nltk\n",
        "import numpy as np\n",
        "import random\n",
        "import string\n",
        "from sklearn.feature_extraction.text import TfidfVectorizer\n",
        "from sklearn.metrics.pairwise import cosine_similarity\n",
        "\n",
        "from nltk.stem import WordNetLemmatizer\n",
        "from nltk.corpus import stopwords\n",
        "\n",
        "\n",
        "\n",
        "# Initialize\n",
        "lemmatizer = WordNetLemmatizer()\n",
        "\n",
        "\n",
        "corpus = {\n",
        "    \"hi\": \"Hello! I am HealthBot. How can I assist you today?\",\n",
        "    \"hello\": \"Hi! Do you have a health-related question?\",\n",
        "    \"i have a headache\": \"You should rest, stay hydrated, and take a mild pain reliever if needed.\",\n",
        "    \"what should i do if i have a fever\": \"Drink plenty of fluids and rest. If the fever persists, please consult a doctor.\",\n",
        "    \"i feel dizzy\": \"Sit down, breathe deeply, and drink water. If it continues, seek medical help.\",\n",
        "    \"what should i eat for a cold\": \"Warm fluids, soups, citrus fruits, and light meals help during a cold.\",\n",
        "    \"how to stay healthy\": \"Eat balanced meals, exercise regularly, stay hydrated, and get enough sleep.\",\n",
        "    \"what should i do in case of a cut\": \"Clean the wound with water, apply antiseptic, and cover it with a clean bandage.\",\n",
        "    \"how much water should i drink daily\": \"Generally, 2 to 3 liters per day is recommended, but it varies based on your activity.\",\n",
        "    \"thank you\": \"You're welcome! Take care.\",\n",
        "    \"bye\": \"Goodbye! Stay healthy!\"\n",
        "}\n",
        "\n",
        "# Prepare documents\n",
        "questions = list(corpus.keys())\n",
        "answers = list(corpus.values())\n",
        "\n",
        "# Text preprocessing\n",
        "def normalize(text):\n",
        "    tokens = nltk.word_tokenize(text.lower())\n",
        "    words = [lemmatizer.lemmatize(w) for w in tokens if w not in string.punctuation and w not in stopwords.words('english')]\n",
        "    return ' '.join(words)\n",
        "\n",
        "normalized_questions = [normalize(q) for q in questions]\n",
        "\n",
        "# Start chatbot\n",
        "def health_bot():\n",
        "    print(\"HealthBot: Hello! I am HealthBot. Ask your health-related question!\")\n",
        "\n",
        "    while True:\n",
        "        user_input = input(\"You: \").lower()\n",
        "        if user_input in ['bye', 'exit', 'quit']:\n",
        "            print(\"HealthBot:\", corpus['bye'])\n",
        "            break\n",
        "\n",
        "        normalized_input = normalize(user_input)\n",
        "        all_inputs = normalized_questions + [normalized_input]\n",
        "\n",
        "        vectorizer = TfidfVectorizer()\n",
        "        tfidf = vectorizer.fit_transform(all_inputs)\n",
        "\n",
        "        cosine_vals = cosine_similarity(tfidf[-1], tfidf[:-1])\n",
        "        idx = np.argmax(cosine_vals)\n",
        "\n",
        "        if cosine_vals[0][idx] > 0.3:\n",
        "            print(\"HealthBot:\", answers[idx])\n",
        "        else:\n",
        "            print(\"HealthBot: I'm sorry, I didn't understand. Please try rephrasing your question.\")\n",
        "\n",
        "# Run the chatbot\n",
        "health_bot()\n",
        "\n"
      ]
    }
  ]
}